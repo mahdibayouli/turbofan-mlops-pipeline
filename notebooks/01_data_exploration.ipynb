{
 "cells": [
  {
   "cell_type": "code",
   "execution_count": null,
   "id": "0652ae84",
   "metadata": {},
   "outputs": [
    {
     "name": "stderr",
     "output_type": "stream",
     "text": [
      "<>:19: SyntaxWarning: invalid escape sequence '\\s'\n",
      "<>:19: SyntaxWarning: invalid escape sequence '\\s'\n",
      "C:\\Users\\bayou\\AppData\\Local\\Temp\\ipykernel_18172\\424797986.py:19: SyntaxWarning: invalid escape sequence '\\s'\n",
      "  df = pd.read_csv(data_path, sep='\\s+', header=None)\n"
     ]
    }
   ],
   "source": [
    "import pandas as pd\n",
    "import numpy as np\n",
    "import matplotlib.pyplot as plt\n",
    "\n",
    "# --- 1. Load Data ---\n",
    "\n",
    "# Define the column names based on the readme.txt\n",
    "op_settings = [f'op_setting_{i+1}' for i in range(3)]\n",
    "sensors = [f'sensor_{i+1}' for i in range(21)]\n",
    "cols = ['unit_number', 'time_in_cycles'] + op_settings + sensors\n",
    "\n",
    "# Filepath\n",
    "data_path = '../data/CMAPSSData/train_FD001.txt'\n",
    "\n",
    "# Read the data\n",
    "# We use delim_whitespace=True because the file is space-separated\n",
    "# header=None confirms there is no header row in the file\n",
    "try:\n",
    "    df = pd.read_csv(data_path, sep=\"\\s+\", header=None)\n",
    "    \n",
    "    # Assign the column names\n",
    "    df.columns = cols\n",
    "    \n",
    "except FileNotFoundError:\n",
    "    print(f\"Error: Data file not found at {data_path}\")\n",
    "    print(\"Please download the 'train_FD001.txt' file and place it in the 'data/' directory.\")"
   ]
  }
 ],
 "metadata": {
  "kernelspec": {
   "display_name": "venv (3.13.7)",
   "language": "python",
   "name": "python3"
  },
  "language_info": {
   "codemirror_mode": {
    "name": "ipython",
    "version": 3
   },
   "file_extension": ".py",
   "mimetype": "text/x-python",
   "name": "python",
   "nbconvert_exporter": "python",
   "pygments_lexer": "ipython3",
   "version": "3.13.7"
  }
 },
 "nbformat": 4,
 "nbformat_minor": 5
}
