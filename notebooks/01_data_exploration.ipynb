{
 "cells": [
  {
   "cell_type": "markdown",
   "id": "705d5c3b",
   "metadata": {},
   "source": [
    "# 01. Data Exploration: NASA C-MAPSS FD001\n",
    "\n",
    "This notebook performs the first step of the project: loading and exploring the raw `train_FD001.txt` dataset.\n",
    "\n",
    "**Goals:**\n",
    "1.  Load the space-delimited text file into a `pandas` DataFrame.\n",
    "2.  Assign the correct column names based on the `readme.txt`.\n",
    "3.  Perform initial verification (check shape, dtypes, null values).\n",
    "4.  Visualize the run-to-failure nature of the data."
   ]
  },
  {
   "cell_type": "code",
   "execution_count": 9,
   "id": "a1a1a862",
   "metadata": {},
   "outputs": [],
   "source": [
    "import pandas as pd\n",
    "import numpy as np\n",
    "import matplotlib.pyplot as plt\n",
    "import seaborn as sns\n",
    "\n",
    "# Set style for plots\n",
    "sns.set_style('whitegrid')"
   ]
  },
  {
   "cell_type": "markdown",
   "id": "ba7d6287",
   "metadata": {},
   "source": [
    "## 1. Data Loading and Column Naming\n",
    "\n",
    "Based on the `readme.txt`, the data is space-delimited and has no header. It contains 26 columns:\n",
    "* `unit_number`\n",
    "* `time_in_cycles`\n",
    "* 3 operational settings (`op_setting_1` to `3`)\n",
    "* 21 sensor readings (`sensor_1` to `21`)\n",
    "\n",
    "We will define these column names and use them to load the data."
   ]
  },
  {
   "cell_type": "code",
   "execution_count": 10,
   "id": "0652ae84",
   "metadata": {},
   "outputs": [],
   "source": [
    "# Define the column names based on the readme.txt\n",
    "op_settings = [f'op_setting_{i+1}' for i in range(3)]\n",
    "sensors = [f'sensor_{i+1}' for i in range(21)]\n",
    "cols = ['unit_number', 'time_in_cycles'] + op_settings + sensors\n",
    "\n",
    "# Filepath\n",
    "data_path = '../data/CMAPSSData/train_FD001.txt'\n",
    "\n",
    "# Read the data\n",
    "try:\n",
    "    df = pd.read_csv(data_path, sep=r\"\\s+\", header=None)\n",
    "    \n",
    "    # Assign the column names\n",
    "    df.columns = cols\n",
    "    \n",
    "except FileNotFoundError:\n",
    "    print(f\"Error: Data file not found at {data_path}\")\n",
    "    print(\"Please download the 'train_FD001.txt' file and place it in the 'data/' directory.\")"
   ]
  },
  {
   "cell_type": "markdown",
   "id": "7ae46c23",
   "metadata": {},
   "source": [
    "## 2. Initial Data Verification\n",
    "\n",
    "We will check the first few rows, the data types, and the null value counts to ensure the data was loaded correctly."
   ]
  },
  {
   "cell_type": "code",
   "execution_count": 11,
   "id": "5c3b69e6",
   "metadata": {},
   "outputs": [
    {
     "name": "stdout",
     "output_type": "stream",
     "text": [
      "--- Data Head ---\n",
      "   unit_number  time_in_cycles  op_setting_1  op_setting_2  op_setting_3  \\\n",
      "0            1               1       -0.0007       -0.0004         100.0   \n",
      "1            1               2        0.0019       -0.0003         100.0   \n",
      "2            1               3       -0.0043        0.0003         100.0   \n",
      "3            1               4        0.0007        0.0000         100.0   \n",
      "4            1               5       -0.0019       -0.0002         100.0   \n",
      "\n",
      "   sensor_1  sensor_2  sensor_3  sensor_4  sensor_5  ...  sensor_12  \\\n",
      "0    518.67    641.82   1589.70   1400.60     14.62  ...     521.66   \n",
      "1    518.67    642.15   1591.82   1403.14     14.62  ...     522.28   \n",
      "2    518.67    642.35   1587.99   1404.20     14.62  ...     522.42   \n",
      "3    518.67    642.35   1582.79   1401.87     14.62  ...     522.86   \n",
      "4    518.67    642.37   1582.85   1406.22     14.62  ...     522.19   \n",
      "\n",
      "   sensor_13  sensor_14  sensor_15  sensor_16  sensor_17  sensor_18  \\\n",
      "0    2388.02    8138.62     8.4195       0.03        392       2388   \n",
      "1    2388.07    8131.49     8.4318       0.03        392       2388   \n",
      "2    2388.03    8133.23     8.4178       0.03        390       2388   \n",
      "3    2388.08    8133.83     8.3682       0.03        392       2388   \n",
      "4    2388.04    8133.80     8.4294       0.03        393       2388   \n",
      "\n",
      "   sensor_19  sensor_20  sensor_21  \n",
      "0      100.0      39.06    23.4190  \n",
      "1      100.0      39.00    23.4236  \n",
      "2      100.0      38.95    23.3442  \n",
      "3      100.0      38.88    23.3739  \n",
      "4      100.0      38.90    23.4044  \n",
      "\n",
      "[5 rows x 26 columns]\n",
      "\n",
      "--- Data Info ---\n",
      "<class 'pandas.core.frame.DataFrame'>\n",
      "RangeIndex: 20631 entries, 0 to 20630\n",
      "Data columns (total 26 columns):\n",
      " #   Column          Non-Null Count  Dtype  \n",
      "---  ------          --------------  -----  \n",
      " 0   unit_number     20631 non-null  int64  \n",
      " 1   time_in_cycles  20631 non-null  int64  \n",
      " 2   op_setting_1    20631 non-null  float64\n",
      " 3   op_setting_2    20631 non-null  float64\n",
      " 4   op_setting_3    20631 non-null  float64\n",
      " 5   sensor_1        20631 non-null  float64\n",
      " 6   sensor_2        20631 non-null  float64\n",
      " 7   sensor_3        20631 non-null  float64\n",
      " 8   sensor_4        20631 non-null  float64\n",
      " 9   sensor_5        20631 non-null  float64\n",
      " 10  sensor_6        20631 non-null  float64\n",
      " 11  sensor_7        20631 non-null  float64\n",
      " 12  sensor_8        20631 non-null  float64\n",
      " 13  sensor_9        20631 non-null  float64\n",
      " 14  sensor_10       20631 non-null  float64\n",
      " 15  sensor_11       20631 non-null  float64\n",
      " 16  sensor_12       20631 non-null  float64\n",
      " 17  sensor_13       20631 non-null  float64\n",
      " 18  sensor_14       20631 non-null  float64\n",
      " 19  sensor_15       20631 non-null  float64\n",
      " 20  sensor_16       20631 non-null  float64\n",
      " 21  sensor_17       20631 non-null  int64  \n",
      " 22  sensor_18       20631 non-null  int64  \n",
      " 23  sensor_19       20631 non-null  float64\n",
      " 24  sensor_20       20631 non-null  float64\n",
      " 25  sensor_21       20631 non-null  float64\n",
      "dtypes: float64(22), int64(4)\n",
      "memory usage: 4.1 MB\n",
      "\n",
      "Total Null Values: 0\n",
      "\n",
      "--- Data Description ---\n",
      "        unit_number  time_in_cycles  op_setting_1  op_setting_2  op_setting_3  \\\n",
      "count  20631.000000    20631.000000  20631.000000  20631.000000       20631.0   \n",
      "mean      51.506568      108.807862     -0.000009      0.000002         100.0   \n",
      "std       29.227633       68.880990      0.002187      0.000293           0.0   \n",
      "min        1.000000        1.000000     -0.008700     -0.000600         100.0   \n",
      "25%       26.000000       52.000000     -0.001500     -0.000200         100.0   \n",
      "50%       52.000000      104.000000      0.000000      0.000000         100.0   \n",
      "75%       77.000000      156.000000      0.001500      0.000300         100.0   \n",
      "max      100.000000      362.000000      0.008700      0.000600         100.0   \n",
      "\n",
      "       sensor_1      sensor_2      sensor_3      sensor_4      sensor_5  ...  \\\n",
      "count  20631.00  20631.000000  20631.000000  20631.000000  2.063100e+04  ...   \n",
      "mean     518.67    642.680934   1590.523119   1408.933782  1.462000e+01  ...   \n",
      "std        0.00      0.500053      6.131150      9.000605  5.329200e-15  ...   \n",
      "min      518.67    641.210000   1571.040000   1382.250000  1.462000e+01  ...   \n",
      "25%      518.67    642.325000   1586.260000   1402.360000  1.462000e+01  ...   \n",
      "50%      518.67    642.640000   1590.100000   1408.040000  1.462000e+01  ...   \n",
      "75%      518.67    643.000000   1594.380000   1414.555000  1.462000e+01  ...   \n",
      "max      518.67    644.530000   1616.910000   1441.490000  1.462000e+01  ...   \n",
      "\n",
      "          sensor_12     sensor_13     sensor_14     sensor_15     sensor_16  \\\n",
      "count  20631.000000  20631.000000  20631.000000  20631.000000  2.063100e+04   \n",
      "mean     521.413470   2388.096152   8143.752722      8.442146  3.000000e-02   \n",
      "std        0.737553      0.071919     19.076176      0.037505  3.469531e-18   \n",
      "min      518.690000   2387.880000   8099.940000      8.324900  3.000000e-02   \n",
      "25%      520.960000   2388.040000   8133.245000      8.414900  3.000000e-02   \n",
      "50%      521.480000   2388.090000   8140.540000      8.438900  3.000000e-02   \n",
      "75%      521.950000   2388.140000   8148.310000      8.465600  3.000000e-02   \n",
      "max      523.380000   2388.560000   8293.720000      8.584800  3.000000e-02   \n",
      "\n",
      "          sensor_17  sensor_18  sensor_19     sensor_20     sensor_21  \n",
      "count  20631.000000    20631.0    20631.0  20631.000000  20631.000000  \n",
      "mean     393.210654     2388.0      100.0     38.816271     23.289705  \n",
      "std        1.548763        0.0        0.0      0.180746      0.108251  \n",
      "min      388.000000     2388.0      100.0     38.140000     22.894200  \n",
      "25%      392.000000     2388.0      100.0     38.700000     23.221800  \n",
      "50%      393.000000     2388.0      100.0     38.830000     23.297900  \n",
      "75%      394.000000     2388.0      100.0     38.950000     23.366800  \n",
      "max      400.000000     2388.0      100.0     39.430000     23.618400  \n",
      "\n",
      "[8 rows x 26 columns]\n"
     ]
    }
   ],
   "source": [
    "# Check the first 5 rows\n",
    "print(\"--- Data Head ---\")\n",
    "print(df.head())\n",
    "\n",
    "# Check the data types and look for null values\n",
    "# We expect 20631 entries, 26 columns, and 0 nulls\n",
    "print(\"\\n--- Data Info ---\")\n",
    "df.info()\n",
    "\n",
    "# Check for any nulls (should be 0)\n",
    "print(f\"\\nTotal Null Values: {df.isnull().sum().sum()}\")\n",
    "\n",
    "# Get basic descriptive statistics\n",
    "print(\"\\n--- Data Description ---\")\n",
    "print(df.describe())"
   ]
  },
  {
   "cell_type": "markdown",
   "id": "ed65349c",
   "metadata": {},
   "source": [
    "## 3. Exploratory Visualization (Run-to-Failure)\n",
    "\n",
    "The `readme.txt` states this dataset is \"run-to-failure.\" Let's verify this by plotting the `time_in_cycles` for a few sample engines (e.g., the first 5 units). We expect to see that each engine `unit_number` has a different total lifespan."
   ]
  },
  {
   "cell_type": "code",
   "execution_count": 12,
   "id": "64113742",
   "metadata": {},
   "outputs": [
    {
     "name": "stdout",
     "output_type": "stream",
     "text": [
      "--- Engine Lifespans (First 10) ---\n",
      "unit_number\n",
      "1     192\n",
      "2     287\n",
      "3     179\n",
      "4     189\n",
      "5     269\n",
      "6     188\n",
      "7     259\n",
      "8     150\n",
      "9     201\n",
      "10    222\n",
      "Name: time_in_cycles, dtype: int64\n"
     ]
    },
    {
     "data": {
      "image/png": "[encoded data removed]",
      "text/plain": [
       "<Figure size 1200x600 with 1 Axes>"
      ]
     },
     "metadata": {},
     "output_type": "display_data"
    }
   ],
   "source": [
    "# Get the total number of cycles (lifespan) for each engine\n",
    "lifespans = df.groupby('unit_number')['time_in_cycles'].max()\n",
    "\n",
    "print(f\"--- Engine Lifespans (First 10) ---\")\n",
    "print(lifespans.head(10))\n",
    "\n",
    "# Plot the distribution of lifespans\n",
    "plt.figure(figsize=(12, 6))\n",
    "sns.histplot(lifespans, bins=30, kde=True)\n",
    "plt.title('Distribution of Engine Lifespans (Total Cycles)', fontsize=16)\n",
    "plt.xlabel('Max Time in Cycles', fontsize=12)\n",
    "plt.ylabel('Number of Engines', fontsize=12)\n",
    "plt.show()"
   ]
  },
  {
   "cell_type": "markdown",
   "id": "5c99441c",
   "metadata": {},
   "source": [
    "### Observations:\n",
    "\n",
    "* The data loaded successfully. We have 20,631 rows, 26 columns, and no null values.\n",
    "* The `df.describe()` output shows that some sensors have constant values (e.g., `sensor_1`, `5`, `6`, `10`, `16`, `18`, `19`). We will need to remember this for preprocessing, as these columns will have zero variance and should be dropped.\n",
    "* The histogram confirms the run-to-failure nature. The dataset contains 100 unique engines (`unit_number` 1 to 100), each with a different lifespan ranging from ~125 to ~375 cycles.\n",
    "\n",
    "We are ready to move on to preprocessing."
   ]
  }
 ],
 "metadata": {
  "kernelspec": {
   "display_name": "venv (3.13.7)",
   "language": "python",
   "name": "python3"
  },
  "language_info": {
   "codemirror_mode": {
    "name": "ipython",
    "version": 3
   },
   "file_extension": ".py",
   "mimetype": "text/x-python",
   "name": "python",
   "nbconvert_exporter": "python",
   "pygments_lexer": "ipython3",
   "version": "3.13.7"
  }
 },
 "nbformat": 4,
 "nbformat_minor": 5
}
